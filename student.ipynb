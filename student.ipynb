{
 "cells": [
  {
   "cell_type": "markdown",
   "metadata": {},
   "source": [
    "<img src=\"Images/istockphoto-1306218631-612x612.jpg\" style=\"width:900px;height:600px\">"
   ]
  },
  {
   "cell_type": "markdown",
   "metadata": {},
   "source": [
    "## EXPLORATORY DATA ANALYSIS FOR A NEW MOTION PICTURE STUDIO"
   ]
  },
  {
   "cell_type": "markdown",
   "metadata": {},
   "source": [
    "## TEAM:\n",
    "1. Stanley Macharia\n",
    "\n",
    "2. Lionel Ajeliti\n",
    "\n",
    "3. Linet Awino\n",
    "\n",
    "4. Stephen Munyiala\n",
    "\n",
    "5. Sharon Mumanyi\n",
    "\n",
    "6. Justin Mbugua"
   ]
  },
  {
   "cell_type": "markdown",
   "metadata": {},
   "source": [
    "# Introduction\n",
    "\n",
    "Exploratory Data Analysis (EDA) is important for emerging studios into the ever-changing landscape of the entertainment business when it comes to what works at the boxoffice. This project performs exploratory data analysis on historical film data, looking for patterns that tie to the financial results of the film. Popular Genre, Release Timing, Budget Allocation, and Consumer Reception analysis will help to obtain actionable insights for a nascent movie studio’s content planning. The studio can make data-informed production decisions according to the market and future pattern which align so that the content produced has maximum chance to succeed and give maximum profit."
   ]
  },
  {
   "cell_type": "markdown",
   "metadata": {},
   "source": [
    "# Project Overview"
   ]
  },
  {
   "cell_type": "markdown",
   "metadata": {},
   "source": [
    "## Business Problem\n",
    "\n",
    "Your company now sees all the big companies creating original video content and they want to get in on the fun. They have decided to create a new movie studio, but they don’t know anything about creating movies. You are charged with exploring what types of films are currently doing the best at the box office. You must then translate those findings into actionable insights that the head of your company's new movie studio can use to help decide what type of films to create."
   ]
  },
  {
   "cell_type": "markdown",
   "metadata": {},
   "source": [
    "## Business Understanding\n",
    "\n",
    "The company is venturing into the interesting global of filmmaking with the release of a new movie studio. However, getting into the film industry with out prior revel in comes with its demanding situations. To ensure the studio starts strong, our role as data analysts is to dive deep into the dynamics of the film industry. By knowledge what drives container office achievement, we are able to offer actionable insights to assist form the studio’s content advent and manufacturing strategies.\n",
    "\n",
    "To do this, we’ll discover key questions about the enterprise:\n",
    "\n",
    "1. What genres consistently dominate the entertainment industry? Understanding which issues resonate with audiences can manual decisions at the styles of memories to tell.\n",
    "\n",
    "2. How do common ratings effect container office fulfillment? Examining the link among audience and critic evaluations and sales can display whether exceptional directly drives profits.\n",
    "\n",
    "3. Which seasons are best for movie releases? Timing is the whole thing, and understanding while audiences are most active can maximize viewership.\n",
    "\n",
    "4. What’s the relationship between production budgets and global gross? This will assist the studio balance investment with expected returns.\n",
    "\n",
    "5. Which genres are the top-rated? Understanding what audiences and critics love can assist discover niches or strengths to pursue."
   ]
  },
  {
   "cell_type": "markdown",
   "metadata": {},
   "source": [
    "## Data Understanding\n",
    "\n",
    "For the exploratory analysis, we will make use of data collected from the following sources:\n",
    "\n",
    "Box Office(https://www.boxofficemojo.com/)\n",
    "\n",
    "IMDB(https://www.imdb.com/)\n",
    "\n",
    "Rotten Tomatoes(https://www.rottentomatoes.com/)\n",
    "\n",
    "TheMovieDB(https://www.themoviedb.org/)\n",
    "\n",
    "The Numbers (https://www.the-numbers.com/)\n"
   ]
  },
  {
   "cell_type": "markdown",
   "metadata": {},
   "source": [
    "# Data Analysis"
   ]
  },
  {
   "cell_type": "code",
   "execution_count": 2,
   "metadata": {},
   "outputs": [],
   "source": [
    "import pandas as pd\n",
    "import numpy as np\n",
    "import matplotlib.pyplot as plt\n",
    "import sqlite3\n",
    "import seaborn as sns\n",
    "%matplotlib inline"
   ]
  },
  {
   "cell_type": "code",
   "execution_count": 7,
   "metadata": {},
   "outputs": [],
   "source": [
    "conn = sqlite3.connect('zippedData/im.db')\n",
    "\n",
    "movie_basics = pd.read_sql_query(\"SELECT * FROM movie_basics\", conn)\n",
    "movie_rating = pd.read_sql_query(\"SELECT * FROM movie_ratings\", conn)\n",
    "\n"
   ]
  },
  {
   "cell_type": "code",
   "execution_count": 11,
   "metadata": {},
   "outputs": [
    {
     "data": {
      "text/html": [
       "<div>\n",
       "<style scoped>\n",
       "    .dataframe tbody tr th:only-of-type {\n",
       "        vertical-align: middle;\n",
       "    }\n",
       "\n",
       "    .dataframe tbody tr th {\n",
       "        vertical-align: top;\n",
       "    }\n",
       "\n",
       "    .dataframe thead th {\n",
       "        text-align: right;\n",
       "    }\n",
       "</style>\n",
       "<table border=\"1\" class=\"dataframe\">\n",
       "  <thead>\n",
       "    <tr style=\"text-align: right;\">\n",
       "      <th></th>\n",
       "      <th>primary_title</th>\n",
       "      <th>genres</th>\n",
       "      <th>averagerating</th>\n",
       "      <th>numvotes</th>\n",
       "    </tr>\n",
       "  </thead>\n",
       "  <tbody>\n",
       "    <tr>\n",
       "      <th>0</th>\n",
       "      <td>Exteriores: Mulheres Brasileiras na Diplomacia</td>\n",
       "      <td>Documentary</td>\n",
       "      <td>10.0</td>\n",
       "      <td>5</td>\n",
       "    </tr>\n",
       "    <tr>\n",
       "      <th>1</th>\n",
       "      <td>The Dark Knight: The Ballad of the N Word</td>\n",
       "      <td>Comedy,Drama</td>\n",
       "      <td>10.0</td>\n",
       "      <td>5</td>\n",
       "    </tr>\n",
       "    <tr>\n",
       "      <th>2</th>\n",
       "      <td>Freeing Bernie Baran</td>\n",
       "      <td>Crime,Documentary</td>\n",
       "      <td>10.0</td>\n",
       "      <td>5</td>\n",
       "    </tr>\n",
       "    <tr>\n",
       "      <th>3</th>\n",
       "      <td>Hercule contre Hermès</td>\n",
       "      <td>Documentary</td>\n",
       "      <td>10.0</td>\n",
       "      <td>5</td>\n",
       "    </tr>\n",
       "    <tr>\n",
       "      <th>4</th>\n",
       "      <td>I Was Born Yesterday!</td>\n",
       "      <td>Documentary</td>\n",
       "      <td>10.0</td>\n",
       "      <td>6</td>\n",
       "    </tr>\n",
       "    <tr>\n",
       "      <th>5</th>\n",
       "      <td>Dog Days in the Heartland</td>\n",
       "      <td>Drama</td>\n",
       "      <td>10.0</td>\n",
       "      <td>5</td>\n",
       "    </tr>\n",
       "    <tr>\n",
       "      <th>6</th>\n",
       "      <td>Revolution Food</td>\n",
       "      <td>Documentary</td>\n",
       "      <td>10.0</td>\n",
       "      <td>8</td>\n",
       "    </tr>\n",
       "    <tr>\n",
       "      <th>7</th>\n",
       "      <td>Fly High: Story of the Disc Dog</td>\n",
       "      <td>Documentary</td>\n",
       "      <td>10.0</td>\n",
       "      <td>7</td>\n",
       "    </tr>\n",
       "    <tr>\n",
       "      <th>8</th>\n",
       "      <td>All Around Us</td>\n",
       "      <td>Documentary</td>\n",
       "      <td>10.0</td>\n",
       "      <td>6</td>\n",
       "    </tr>\n",
       "    <tr>\n",
       "      <th>9</th>\n",
       "      <td>The Paternal Bond: Barbary Macaques</td>\n",
       "      <td>Documentary</td>\n",
       "      <td>10.0</td>\n",
       "      <td>5</td>\n",
       "    </tr>\n",
       "  </tbody>\n",
       "</table>\n",
       "</div>"
      ],
      "text/plain": [
       "                                    primary_title             genres  \\\n",
       "0  Exteriores: Mulheres Brasileiras na Diplomacia        Documentary   \n",
       "1       The Dark Knight: The Ballad of the N Word       Comedy,Drama   \n",
       "2                            Freeing Bernie Baran  Crime,Documentary   \n",
       "3                           Hercule contre Hermès        Documentary   \n",
       "4                           I Was Born Yesterday!        Documentary   \n",
       "5                       Dog Days in the Heartland              Drama   \n",
       "6                                 Revolution Food        Documentary   \n",
       "7                 Fly High: Story of the Disc Dog        Documentary   \n",
       "8                                   All Around Us        Documentary   \n",
       "9             The Paternal Bond: Barbary Macaques        Documentary   \n",
       "\n",
       "   averagerating  numvotes  \n",
       "0           10.0         5  \n",
       "1           10.0         5  \n",
       "2           10.0         5  \n",
       "3           10.0         5  \n",
       "4           10.0         6  \n",
       "5           10.0         5  \n",
       "6           10.0         8  \n",
       "7           10.0         7  \n",
       "8           10.0         6  \n",
       "9           10.0         5  "
      ]
     },
     "execution_count": 11,
     "metadata": {},
     "output_type": "execute_result"
    }
   ],
   "source": [
    "top_rated_movies= pd.read_sql('''\n",
    "            SELECT primary_title, genres, averagerating, numvotes\n",
    "            FROM movie_basics\n",
    "            JOIN movie_ratings\n",
    "            USING(movie_id)\n",
    "            ORDER BY averagerating DESC\n",
    "            ''', conn).head(10)\n",
    "\n",
    "top_rated_movies"
   ]
  },
  {
   "cell_type": "code",
   "execution_count": null,
   "metadata": {},
   "outputs": [],
   "source": []
  },
  {
   "cell_type": "code",
   "execution_count": null,
   "metadata": {},
   "outputs": [],
   "source": [
    "# Your code here - remember to use markdown cells for comments as well!"
   ]
  }
 ],
 "metadata": {
  "kernelspec": {
   "display_name": "Python 3",
   "language": "python",
   "name": "python3"
  },
  "language_info": {
   "codemirror_mode": {
    "name": "ipython",
    "version": 3
   },
   "file_extension": ".py",
   "mimetype": "text/x-python",
   "name": "python",
   "nbconvert_exporter": "python",
   "pygments_lexer": "ipython3",
   "version": "3.8.5"
  }
 },
 "nbformat": 4,
 "nbformat_minor": 2
}
